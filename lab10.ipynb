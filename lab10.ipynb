from pynq import Overlay
import time

class FSMController:
    def __init__(self, bitfile_path):
        self.ol = Overlay(bitfile_path)
        
        self.leds = self.ol.led.channel1
        self.switches = self.ol.sw.channel1 
        self.btn = self.ol.btn.channel1 
        
        self.state = "010"
        self.counter = 0
        self.last_1hz = time.time()
        self.last_2hz = time.time()
        self.last_4hz = time.time()
        self.last_btn_press = time.time()
        self.btn_pressed = False
        self.update_leds()
    
    def update_leds(self):
        state_val = int(self.state, 2) << 5 #State Position     
        count_val = self.counter & 0x0F #0-3 led
        led_value = state_val | count_val
        self.leds.write(led_value, 0xFF)
        print(f"{bin(led_value)[2:].zfill(8)}")
    
    #Read sw and btnc values
    def read_inputs(self):
        current_time = time.time()
        self.last_btn_press = current_time
        btn_val = self.btn.read()
        return {
            'din': self.switches.read() & 0x0F,
            'btn_c': (btn_val & 0x01) == 0x01,  # bit0 
            'btn_d': (btn_val & 0x02) == 0x02,  # bit1
            'btn_u': (btn_val & 0x10) == 0x10,  # bit4
        }
    
    def run(self):
        print(f"lalala")
        while True:          
            current_time = time.time()
            inputs = self.read_inputs()
                
            if current_time - self.last_4hz >= 0.25:
                self.last_4hz = current_time
                btn_c = inputs['btn_c']
                btn_u = inputs['btn_u']
                btn_d = inputs['btn_d']
        
                if btn_c and not self.btn_pressed:  
                    if self.state == "001":
                        self.state = "010"  
                    elif self.state == "100":
                        self.state = "010"  
                    self.btn_pressed = True  
                elif btn_u and not self.btn_pressed: 
                    if self.state == "010":
                        self.state = "100"   
                    self.btn_pressed = True
                elif btn_d and not self.btn_pressed: 
                    if self.state == "010":
                        self.state = "001"   
                    self.btn_pressed = True 
                elif not btn_c:
                    self.btn_pressed = False
               
            if self.state == "010":  
                self.counter = inputs['din']
                
            elif self.state == "100": 
                if current_time - self.last_1hz >= 1.0:
                    self.last_1hz = current_time
                    if self.counter < 15:
                        self.counter += 1
            elif self.state == "001":
                if current_time - self.last_2hz >= 0.5:
                    self.last_2hz = current_time
                    if self.counter > 0:
                        self.counter -= 1
            self.update_leds()
                
if __name__ == "__main__":
    controller = FSMController("./Zedboard_AXIGPIO.bit")
    controller.run()

